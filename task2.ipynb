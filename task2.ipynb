{
 "cells": [
  {
   "cell_type": "markdown",
   "metadata": {},
   "source": [
    "TASK 2: Prediction using Unsupervised ML"
   ]
  },
  {
   "cell_type": "markdown",
   "metadata": {},
   "source": [
    "From the given ‘Iris’ dataset, predict the\n",
    "optimum number of clusters and\n",
    "Represent it visually."
   ]
  },
  {
   "cell_type": "markdown",
   "metadata": {},
   "source": [
    "Importing Necessary Libraries"
   ]
  },
  {
   "cell_type": "code",
   "execution_count": 10,
   "metadata": {},
   "outputs": [],
   "source": [
    "import numpy as np\n",
    "import matplotlib.pyplot as plt\n",
    "import pandas as pd\n",
    "from sklearn import datasets\n",
    "from sklearn.cluster import KMeans"
   ]
  },
  {
   "cell_type": "markdown",
   "metadata": {},
   "source": [
    "Provided Data"
   ]
  },
  {
   "cell_type": "code",
   "execution_count": 18,
   "metadata": {},
   "outputs": [
    {
     "data": {
      "text/html": [
       "<div>\n",
       "<style scoped>\n",
       "    .dataframe tbody tr th:only-of-type {\n",
       "        vertical-align: middle;\n",
       "    }\n",
       "\n",
       "    .dataframe tbody tr th {\n",
       "        vertical-align: top;\n",
       "    }\n",
       "\n",
       "    .dataframe thead th {\n",
       "        text-align: right;\n",
       "    }\n",
       "</style>\n",
       "<table border=\"1\" class=\"dataframe\">\n",
       "  <thead>\n",
       "    <tr style=\"text-align: right;\">\n",
       "      <th></th>\n",
       "      <th>Id</th>\n",
       "      <th>SepalLengthCm</th>\n",
       "      <th>SepalWidthCm</th>\n",
       "      <th>PetalLengthCm</th>\n",
       "      <th>PetalWidthCm</th>\n",
       "      <th>Species</th>\n",
       "    </tr>\n",
       "  </thead>\n",
       "  <tbody>\n",
       "    <tr>\n",
       "      <th>0</th>\n",
       "      <td>1</td>\n",
       "      <td>5.1</td>\n",
       "      <td>3.5</td>\n",
       "      <td>1.4</td>\n",
       "      <td>0.2</td>\n",
       "      <td>Iris-setosa</td>\n",
       "    </tr>\n",
       "    <tr>\n",
       "      <th>1</th>\n",
       "      <td>2</td>\n",
       "      <td>4.9</td>\n",
       "      <td>3.0</td>\n",
       "      <td>1.4</td>\n",
       "      <td>0.2</td>\n",
       "      <td>Iris-setosa</td>\n",
       "    </tr>\n",
       "    <tr>\n",
       "      <th>2</th>\n",
       "      <td>3</td>\n",
       "      <td>4.7</td>\n",
       "      <td>3.2</td>\n",
       "      <td>1.3</td>\n",
       "      <td>0.2</td>\n",
       "      <td>Iris-setosa</td>\n",
       "    </tr>\n",
       "    <tr>\n",
       "      <th>3</th>\n",
       "      <td>4</td>\n",
       "      <td>4.6</td>\n",
       "      <td>3.1</td>\n",
       "      <td>1.5</td>\n",
       "      <td>0.2</td>\n",
       "      <td>Iris-setosa</td>\n",
       "    </tr>\n",
       "    <tr>\n",
       "      <th>4</th>\n",
       "      <td>5</td>\n",
       "      <td>5.0</td>\n",
       "      <td>3.6</td>\n",
       "      <td>1.4</td>\n",
       "      <td>0.2</td>\n",
       "      <td>Iris-setosa</td>\n",
       "    </tr>\n",
       "    <tr>\n",
       "      <th>...</th>\n",
       "      <td>...</td>\n",
       "      <td>...</td>\n",
       "      <td>...</td>\n",
       "      <td>...</td>\n",
       "      <td>...</td>\n",
       "      <td>...</td>\n",
       "    </tr>\n",
       "    <tr>\n",
       "      <th>145</th>\n",
       "      <td>146</td>\n",
       "      <td>6.7</td>\n",
       "      <td>3.0</td>\n",
       "      <td>5.2</td>\n",
       "      <td>2.3</td>\n",
       "      <td>Iris-virginica</td>\n",
       "    </tr>\n",
       "    <tr>\n",
       "      <th>146</th>\n",
       "      <td>147</td>\n",
       "      <td>6.3</td>\n",
       "      <td>2.5</td>\n",
       "      <td>5.0</td>\n",
       "      <td>1.9</td>\n",
       "      <td>Iris-virginica</td>\n",
       "    </tr>\n",
       "    <tr>\n",
       "      <th>147</th>\n",
       "      <td>148</td>\n",
       "      <td>6.5</td>\n",
       "      <td>3.0</td>\n",
       "      <td>5.2</td>\n",
       "      <td>2.0</td>\n",
       "      <td>Iris-virginica</td>\n",
       "    </tr>\n",
       "    <tr>\n",
       "      <th>148</th>\n",
       "      <td>149</td>\n",
       "      <td>6.2</td>\n",
       "      <td>3.4</td>\n",
       "      <td>5.4</td>\n",
       "      <td>2.3</td>\n",
       "      <td>Iris-virginica</td>\n",
       "    </tr>\n",
       "    <tr>\n",
       "      <th>149</th>\n",
       "      <td>150</td>\n",
       "      <td>5.9</td>\n",
       "      <td>3.0</td>\n",
       "      <td>5.1</td>\n",
       "      <td>1.8</td>\n",
       "      <td>Iris-virginica</td>\n",
       "    </tr>\n",
       "  </tbody>\n",
       "</table>\n",
       "<p>150 rows × 6 columns</p>\n",
       "</div>"
      ],
      "text/plain": [
       "      Id  SepalLengthCm  SepalWidthCm  PetalLengthCm  PetalWidthCm  \\\n",
       "0      1            5.1           3.5            1.4           0.2   \n",
       "1      2            4.9           3.0            1.4           0.2   \n",
       "2      3            4.7           3.2            1.3           0.2   \n",
       "3      4            4.6           3.1            1.5           0.2   \n",
       "4      5            5.0           3.6            1.4           0.2   \n",
       "..   ...            ...           ...            ...           ...   \n",
       "145  146            6.7           3.0            5.2           2.3   \n",
       "146  147            6.3           2.5            5.0           1.9   \n",
       "147  148            6.5           3.0            5.2           2.0   \n",
       "148  149            6.2           3.4            5.4           2.3   \n",
       "149  150            5.9           3.0            5.1           1.8   \n",
       "\n",
       "            Species  \n",
       "0       Iris-setosa  \n",
       "1       Iris-setosa  \n",
       "2       Iris-setosa  \n",
       "3       Iris-setosa  \n",
       "4       Iris-setosa  \n",
       "..              ...  \n",
       "145  Iris-virginica  \n",
       "146  Iris-virginica  \n",
       "147  Iris-virginica  \n",
       "148  Iris-virginica  \n",
       "149  Iris-virginica  \n",
       "\n",
       "[150 rows x 6 columns]"
      ]
     },
     "execution_count": 18,
     "metadata": {},
     "output_type": "execute_result"
    }
   ],
   "source": [
    "# Load the iris dataset\n",
    "iris_df = pd.read_csv(\"iris.csv\")\n",
    "iris_df\n"
   ]
  },
  {
   "cell_type": "markdown",
   "metadata": {},
   "source": [
    "K-Means Clustering"
   ]
  },
  {
   "cell_type": "code",
   "execution_count": 19,
   "metadata": {},
   "outputs": [
    {
     "data": {
      "text/plain": [
       "array([[  1. ,   5.1,   3.5,   1.4],\n",
       "       [  2. ,   4.9,   3. ,   1.4],\n",
       "       [  3. ,   4.7,   3.2,   1.3],\n",
       "       [  4. ,   4.6,   3.1,   1.5],\n",
       "       [  5. ,   5. ,   3.6,   1.4],\n",
       "       [  6. ,   5.4,   3.9,   1.7],\n",
       "       [  7. ,   4.6,   3.4,   1.4],\n",
       "       [  8. ,   5. ,   3.4,   1.5],\n",
       "       [  9. ,   4.4,   2.9,   1.4],\n",
       "       [ 10. ,   4.9,   3.1,   1.5],\n",
       "       [ 11. ,   5.4,   3.7,   1.5],\n",
       "       [ 12. ,   4.8,   3.4,   1.6],\n",
       "       [ 13. ,   4.8,   3. ,   1.4],\n",
       "       [ 14. ,   4.3,   3. ,   1.1],\n",
       "       [ 15. ,   5.8,   4. ,   1.2],\n",
       "       [ 16. ,   5.7,   4.4,   1.5],\n",
       "       [ 17. ,   5.4,   3.9,   1.3],\n",
       "       [ 18. ,   5.1,   3.5,   1.4],\n",
       "       [ 19. ,   5.7,   3.8,   1.7],\n",
       "       [ 20. ,   5.1,   3.8,   1.5],\n",
       "       [ 21. ,   5.4,   3.4,   1.7],\n",
       "       [ 22. ,   5.1,   3.7,   1.5],\n",
       "       [ 23. ,   4.6,   3.6,   1. ],\n",
       "       [ 24. ,   5.1,   3.3,   1.7],\n",
       "       [ 25. ,   4.8,   3.4,   1.9],\n",
       "       [ 26. ,   5. ,   3. ,   1.6],\n",
       "       [ 27. ,   5. ,   3.4,   1.6],\n",
       "       [ 28. ,   5.2,   3.5,   1.5],\n",
       "       [ 29. ,   5.2,   3.4,   1.4],\n",
       "       [ 30. ,   4.7,   3.2,   1.6],\n",
       "       [ 31. ,   4.8,   3.1,   1.6],\n",
       "       [ 32. ,   5.4,   3.4,   1.5],\n",
       "       [ 33. ,   5.2,   4.1,   1.5],\n",
       "       [ 34. ,   5.5,   4.2,   1.4],\n",
       "       [ 35. ,   4.9,   3.1,   1.5],\n",
       "       [ 36. ,   5. ,   3.2,   1.2],\n",
       "       [ 37. ,   5.5,   3.5,   1.3],\n",
       "       [ 38. ,   4.9,   3.1,   1.5],\n",
       "       [ 39. ,   4.4,   3. ,   1.3],\n",
       "       [ 40. ,   5.1,   3.4,   1.5],\n",
       "       [ 41. ,   5. ,   3.5,   1.3],\n",
       "       [ 42. ,   4.5,   2.3,   1.3],\n",
       "       [ 43. ,   4.4,   3.2,   1.3],\n",
       "       [ 44. ,   5. ,   3.5,   1.6],\n",
       "       [ 45. ,   5.1,   3.8,   1.9],\n",
       "       [ 46. ,   4.8,   3. ,   1.4],\n",
       "       [ 47. ,   5.1,   3.8,   1.6],\n",
       "       [ 48. ,   4.6,   3.2,   1.4],\n",
       "       [ 49. ,   5.3,   3.7,   1.5],\n",
       "       [ 50. ,   5. ,   3.3,   1.4],\n",
       "       [ 51. ,   7. ,   3.2,   4.7],\n",
       "       [ 52. ,   6.4,   3.2,   4.5],\n",
       "       [ 53. ,   6.9,   3.1,   4.9],\n",
       "       [ 54. ,   5.5,   2.3,   4. ],\n",
       "       [ 55. ,   6.5,   2.8,   4.6],\n",
       "       [ 56. ,   5.7,   2.8,   4.5],\n",
       "       [ 57. ,   6.3,   3.3,   4.7],\n",
       "       [ 58. ,   4.9,   2.4,   3.3],\n",
       "       [ 59. ,   6.6,   2.9,   4.6],\n",
       "       [ 60. ,   5.2,   2.7,   3.9],\n",
       "       [ 61. ,   5. ,   2. ,   3.5],\n",
       "       [ 62. ,   5.9,   3. ,   4.2],\n",
       "       [ 63. ,   6. ,   2.2,   4. ],\n",
       "       [ 64. ,   6.1,   2.9,   4.7],\n",
       "       [ 65. ,   5.6,   2.9,   3.6],\n",
       "       [ 66. ,   6.7,   3.1,   4.4],\n",
       "       [ 67. ,   5.6,   3. ,   4.5],\n",
       "       [ 68. ,   5.8,   2.7,   4.1],\n",
       "       [ 69. ,   6.2,   2.2,   4.5],\n",
       "       [ 70. ,   5.6,   2.5,   3.9],\n",
       "       [ 71. ,   5.9,   3.2,   4.8],\n",
       "       [ 72. ,   6.1,   2.8,   4. ],\n",
       "       [ 73. ,   6.3,   2.5,   4.9],\n",
       "       [ 74. ,   6.1,   2.8,   4.7],\n",
       "       [ 75. ,   6.4,   2.9,   4.3],\n",
       "       [ 76. ,   6.6,   3. ,   4.4],\n",
       "       [ 77. ,   6.8,   2.8,   4.8],\n",
       "       [ 78. ,   6.7,   3. ,   5. ],\n",
       "       [ 79. ,   6. ,   2.9,   4.5],\n",
       "       [ 80. ,   5.7,   2.6,   3.5],\n",
       "       [ 81. ,   5.5,   2.4,   3.8],\n",
       "       [ 82. ,   5.5,   2.4,   3.7],\n",
       "       [ 83. ,   5.8,   2.7,   3.9],\n",
       "       [ 84. ,   6. ,   2.7,   5.1],\n",
       "       [ 85. ,   5.4,   3. ,   4.5],\n",
       "       [ 86. ,   6. ,   3.4,   4.5],\n",
       "       [ 87. ,   6.7,   3.1,   4.7],\n",
       "       [ 88. ,   6.3,   2.3,   4.4],\n",
       "       [ 89. ,   5.6,   3. ,   4.1],\n",
       "       [ 90. ,   5.5,   2.5,   4. ],\n",
       "       [ 91. ,   5.5,   2.6,   4.4],\n",
       "       [ 92. ,   6.1,   3. ,   4.6],\n",
       "       [ 93. ,   5.8,   2.6,   4. ],\n",
       "       [ 94. ,   5. ,   2.3,   3.3],\n",
       "       [ 95. ,   5.6,   2.7,   4.2],\n",
       "       [ 96. ,   5.7,   3. ,   4.2],\n",
       "       [ 97. ,   5.7,   2.9,   4.2],\n",
       "       [ 98. ,   6.2,   2.9,   4.3],\n",
       "       [ 99. ,   5.1,   2.5,   3. ],\n",
       "       [100. ,   5.7,   2.8,   4.1],\n",
       "       [101. ,   6.3,   3.3,   6. ],\n",
       "       [102. ,   5.8,   2.7,   5.1],\n",
       "       [103. ,   7.1,   3. ,   5.9],\n",
       "       [104. ,   6.3,   2.9,   5.6],\n",
       "       [105. ,   6.5,   3. ,   5.8],\n",
       "       [106. ,   7.6,   3. ,   6.6],\n",
       "       [107. ,   4.9,   2.5,   4.5],\n",
       "       [108. ,   7.3,   2.9,   6.3],\n",
       "       [109. ,   6.7,   2.5,   5.8],\n",
       "       [110. ,   7.2,   3.6,   6.1],\n",
       "       [111. ,   6.5,   3.2,   5.1],\n",
       "       [112. ,   6.4,   2.7,   5.3],\n",
       "       [113. ,   6.8,   3. ,   5.5],\n",
       "       [114. ,   5.7,   2.5,   5. ],\n",
       "       [115. ,   5.8,   2.8,   5.1],\n",
       "       [116. ,   6.4,   3.2,   5.3],\n",
       "       [117. ,   6.5,   3. ,   5.5],\n",
       "       [118. ,   7.7,   3.8,   6.7],\n",
       "       [119. ,   7.7,   2.6,   6.9],\n",
       "       [120. ,   6. ,   2.2,   5. ],\n",
       "       [121. ,   6.9,   3.2,   5.7],\n",
       "       [122. ,   5.6,   2.8,   4.9],\n",
       "       [123. ,   7.7,   2.8,   6.7],\n",
       "       [124. ,   6.3,   2.7,   4.9],\n",
       "       [125. ,   6.7,   3.3,   5.7],\n",
       "       [126. ,   7.2,   3.2,   6. ],\n",
       "       [127. ,   6.2,   2.8,   4.8],\n",
       "       [128. ,   6.1,   3. ,   4.9],\n",
       "       [129. ,   6.4,   2.8,   5.6],\n",
       "       [130. ,   7.2,   3. ,   5.8],\n",
       "       [131. ,   7.4,   2.8,   6.1],\n",
       "       [132. ,   7.9,   3.8,   6.4],\n",
       "       [133. ,   6.4,   2.8,   5.6],\n",
       "       [134. ,   6.3,   2.8,   5.1],\n",
       "       [135. ,   6.1,   2.6,   5.6],\n",
       "       [136. ,   7.7,   3. ,   6.1],\n",
       "       [137. ,   6.3,   3.4,   5.6],\n",
       "       [138. ,   6.4,   3.1,   5.5],\n",
       "       [139. ,   6. ,   3. ,   4.8],\n",
       "       [140. ,   6.9,   3.1,   5.4],\n",
       "       [141. ,   6.7,   3.1,   5.6],\n",
       "       [142. ,   6.9,   3.1,   5.1],\n",
       "       [143. ,   5.8,   2.7,   5.1],\n",
       "       [144. ,   6.8,   3.2,   5.9],\n",
       "       [145. ,   6.7,   3.3,   5.7],\n",
       "       [146. ,   6.7,   3. ,   5.2],\n",
       "       [147. ,   6.3,   2.5,   5. ],\n",
       "       [148. ,   6.5,   3. ,   5.2],\n",
       "       [149. ,   6.2,   3.4,   5.4],\n",
       "       [150. ,   5.9,   3. ,   5.1]])"
      ]
     },
     "execution_count": 19,
     "metadata": {},
     "output_type": "execute_result"
    }
   ],
   "source": [
    "# Finding the optimum number of clusters for k-means classification\n",
    "x = iris_df.iloc[:, [0, 1, 2, 3]].values\n",
    "x"
   ]
  },
  {
   "cell_type": "code",
   "execution_count": 20,
   "metadata": {},
   "outputs": [
    {
     "data": {
      "text/plain": [
       "[281831.54466666665,\n",
       " 70581.3808,\n",
       " 31320.711199999998,\n",
       " 17793.59050704551,\n",
       " 11424.765205784202,\n",
       " 7961.65012687353,\n",
       " 5922.7418560606075,\n",
       " 4542.214812865496,\n",
       " 3588.4878586601303,\n",
       " 2933.402648809524]"
      ]
     },
     "execution_count": 20,
     "metadata": {},
     "output_type": "execute_result"
    }
   ],
   "source": [
    "wcss = []\n",
    "\n",
    "for i in range(1, 11):\n",
    "    kmeans = KMeans(n_clusters = i, init = 'k-means++', \n",
    "                    max_iter = 300, n_init = 10, random_state = 0)\n",
    "    kmeans.fit(x)\n",
    "    wcss.append(kmeans.inertia_)\n",
    "    \n",
    "wcss\n",
    "    "
   ]
  },
  {
   "cell_type": "markdown",
   "metadata": {},
   "source": [
    "Plotting the result on a Line Graph"
   ]
  },
  {
   "cell_type": "code",
   "execution_count": 25,
   "metadata": {},
   "outputs": [
    {
     "data": {
      "image/png": "[encoded data removed]",
      "text/plain": [
       "<Figure size 640x480 with 1 Axes>"
      ]
     },
     "metadata": {},
     "output_type": "display_data"
    }
   ],
   "source": [
    "# Plotting the results onto a line graph, \n",
    "# `allowing us to observe 'The elbow'\n",
    "plt.plot(range(1, 11), wcss,'o-')\n",
    "plt.title('The elbow method')\n",
    "plt.xlabel('Number of clusters')\n",
    "plt.ylabel('WCSS') # Within cluster sum of squares\n",
    "plt.show()"
   ]
  },
  {
   "cell_type": "markdown",
   "metadata": {},
   "source": [
    "From the above graph we get to know that elbow is at 3, Hence there will be 3 clusters"
   ]
  },
  {
   "cell_type": "code",
   "execution_count": 22,
   "metadata": {},
   "outputs": [],
   "source": [
    "# Applying kmeans to the dataset / Creating the kmeans classifier\n",
    "kmeans = KMeans(n_clusters = 3, init = 'k-means++',\n",
    "                max_iter = 300, n_init = 10, random_state = 0)\n",
    "y_kmeans = kmeans.fit_predict(x)"
   ]
  },
  {
   "cell_type": "markdown",
   "metadata": {},
   "source": [
    "Cluster Visualisation"
   ]
  },
  {
   "cell_type": "code",
   "execution_count": 23,
   "metadata": {},
   "outputs": [
    {
     "data": {
      "image/png": "[encoded data removed]",
      "text/plain": [
       "<Figure size 640x480 with 1 Axes>"
      ]
     },
     "metadata": {},
     "output_type": "display_data"
    }
   ],
   "source": [
    "# Visualising the clusters - On the first two columns\n",
    "plt.scatter(x[y_kmeans == 0, 0], x[y_kmeans == 0, 1], \n",
    "            s = 100, c = 'red', label = 'Iris-setosa')\n",
    "plt.scatter(x[y_kmeans == 1, 0], x[y_kmeans == 1, 1], \n",
    "            s = 100, c = 'blue', label = 'Iris-versicolour')\n",
    "plt.scatter(x[y_kmeans == 2, 0], x[y_kmeans == 2, 1],\n",
    "            s = 100, c = 'green', label = 'Iris-virginica')\n",
    "\n",
    "# Plotting the centroids of the clusters\n",
    "plt.scatter(kmeans.cluster_centers_[:, 0], kmeans.cluster_centers_[:,1], \n",
    "            s = 100, c = 'yellow', label = 'Centroids')\n",
    "\n",
    "plt.xlabel('Sepal Length (cm)')\n",
    "plt.ylabel('Sepal Width (cm)')\n",
    "plt.legend()\n",
    "plt.show()"
   ]
  },
  {
   "cell_type": "markdown",
   "metadata": {},
   "source": [
    "We can clearly see that optimum number of clusters are THREE and we have visualized it"
   ]
  },
  {
   "cell_type": "code",
   "execution_count": null,
   "metadata": {},
   "outputs": [],
   "source": []
  }
 ],
 "metadata": {
  "kernelspec": {
   "display_name": "Python 3",
   "language": "python",
   "name": "python3"
  },
  "language_info": {
   "codemirror_mode": {
    "name": "ipython",
    "version": 3
   },
   "file_extension": ".py",
   "mimetype": "text/x-python",
   "name": "python",
   "nbconvert_exporter": "python",
   "pygments_lexer": "ipython3",
   "version": "3.11.5"
  },
  "orig_nbformat": 4
 },
 "nbformat": 4,
 "nbformat_minor": 2
}
